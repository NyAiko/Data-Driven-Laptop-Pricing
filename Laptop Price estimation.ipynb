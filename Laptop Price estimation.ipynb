{
 "cells": [
  {
   "cell_type": "markdown",
   "id": "9686052a",
   "metadata": {},
   "source": [
    "# Laptop Price estimation using Machine Learning\n",
    "### Reading the data"
   ]
  },
  {
   "cell_type": "code",
   "execution_count": 1,
   "id": "9930f73b",
   "metadata": {},
   "outputs": [],
   "source": [
    "import numpy as np\n",
    "import pandas as pd\n",
    "import matplotlib.pyplot as plt\n",
    "import seaborn as sns"
   ]
  },
  {
   "cell_type": "code",
   "execution_count": 2,
   "id": "6f818fce",
   "metadata": {},
   "outputs": [
    {
     "data": {
      "text/html": [
       "<div>\n",
       "<style scoped>\n",
       "    .dataframe tbody tr th:only-of-type {\n",
       "        vertical-align: middle;\n",
       "    }\n",
       "\n",
       "    .dataframe tbody tr th {\n",
       "        vertical-align: top;\n",
       "    }\n",
       "\n",
       "    .dataframe thead th {\n",
       "        text-align: right;\n",
       "    }\n",
       "</style>\n",
       "<table border=\"1\" class=\"dataframe\">\n",
       "  <thead>\n",
       "    <tr style=\"text-align: right;\">\n",
       "      <th></th>\n",
       "      <th>brand</th>\n",
       "      <th>processor_brand</th>\n",
       "      <th>processor_name</th>\n",
       "      <th>processor_gnrtn</th>\n",
       "      <th>ram_gb</th>\n",
       "      <th>ram_type</th>\n",
       "      <th>ssd</th>\n",
       "      <th>hdd</th>\n",
       "      <th>os</th>\n",
       "      <th>os_bit</th>\n",
       "      <th>graphic_card_gb</th>\n",
       "      <th>weight</th>\n",
       "      <th>warranty</th>\n",
       "      <th>Touchscreen</th>\n",
       "      <th>msoffice</th>\n",
       "      <th>Price</th>\n",
       "      <th>rating</th>\n",
       "      <th>Number of Ratings</th>\n",
       "      <th>Number of Reviews</th>\n",
       "    </tr>\n",
       "  </thead>\n",
       "  <tbody>\n",
       "    <tr>\n",
       "      <th>0</th>\n",
       "      <td>ASUS</td>\n",
       "      <td>Intel</td>\n",
       "      <td>Core i3</td>\n",
       "      <td>10th</td>\n",
       "      <td>4 GB</td>\n",
       "      <td>DDR4</td>\n",
       "      <td>0 GB</td>\n",
       "      <td>1024 GB</td>\n",
       "      <td>Windows</td>\n",
       "      <td>64-bit</td>\n",
       "      <td>0 GB</td>\n",
       "      <td>Casual</td>\n",
       "      <td>No warranty</td>\n",
       "      <td>No</td>\n",
       "      <td>No</td>\n",
       "      <td>34649</td>\n",
       "      <td>2 stars</td>\n",
       "      <td>3</td>\n",
       "      <td>0</td>\n",
       "    </tr>\n",
       "    <tr>\n",
       "      <th>1</th>\n",
       "      <td>Lenovo</td>\n",
       "      <td>Intel</td>\n",
       "      <td>Core i3</td>\n",
       "      <td>10th</td>\n",
       "      <td>4 GB</td>\n",
       "      <td>DDR4</td>\n",
       "      <td>0 GB</td>\n",
       "      <td>1024 GB</td>\n",
       "      <td>Windows</td>\n",
       "      <td>64-bit</td>\n",
       "      <td>0 GB</td>\n",
       "      <td>Casual</td>\n",
       "      <td>No warranty</td>\n",
       "      <td>No</td>\n",
       "      <td>No</td>\n",
       "      <td>38999</td>\n",
       "      <td>3 stars</td>\n",
       "      <td>65</td>\n",
       "      <td>5</td>\n",
       "    </tr>\n",
       "    <tr>\n",
       "      <th>2</th>\n",
       "      <td>Lenovo</td>\n",
       "      <td>Intel</td>\n",
       "      <td>Core i3</td>\n",
       "      <td>10th</td>\n",
       "      <td>4 GB</td>\n",
       "      <td>DDR4</td>\n",
       "      <td>0 GB</td>\n",
       "      <td>1024 GB</td>\n",
       "      <td>Windows</td>\n",
       "      <td>64-bit</td>\n",
       "      <td>0 GB</td>\n",
       "      <td>Casual</td>\n",
       "      <td>No warranty</td>\n",
       "      <td>No</td>\n",
       "      <td>No</td>\n",
       "      <td>39999</td>\n",
       "      <td>3 stars</td>\n",
       "      <td>8</td>\n",
       "      <td>1</td>\n",
       "    </tr>\n",
       "    <tr>\n",
       "      <th>3</th>\n",
       "      <td>ASUS</td>\n",
       "      <td>Intel</td>\n",
       "      <td>Core i5</td>\n",
       "      <td>10th</td>\n",
       "      <td>8 GB</td>\n",
       "      <td>DDR4</td>\n",
       "      <td>512 GB</td>\n",
       "      <td>0 GB</td>\n",
       "      <td>Windows</td>\n",
       "      <td>32-bit</td>\n",
       "      <td>2 GB</td>\n",
       "      <td>Casual</td>\n",
       "      <td>No warranty</td>\n",
       "      <td>No</td>\n",
       "      <td>No</td>\n",
       "      <td>69990</td>\n",
       "      <td>3 stars</td>\n",
       "      <td>0</td>\n",
       "      <td>0</td>\n",
       "    </tr>\n",
       "    <tr>\n",
       "      <th>4</th>\n",
       "      <td>ASUS</td>\n",
       "      <td>Intel</td>\n",
       "      <td>Celeron Dual</td>\n",
       "      <td>Not Available</td>\n",
       "      <td>4 GB</td>\n",
       "      <td>DDR4</td>\n",
       "      <td>0 GB</td>\n",
       "      <td>512 GB</td>\n",
       "      <td>Windows</td>\n",
       "      <td>64-bit</td>\n",
       "      <td>0 GB</td>\n",
       "      <td>Casual</td>\n",
       "      <td>No warranty</td>\n",
       "      <td>No</td>\n",
       "      <td>No</td>\n",
       "      <td>26990</td>\n",
       "      <td>3 stars</td>\n",
       "      <td>0</td>\n",
       "      <td>0</td>\n",
       "    </tr>\n",
       "  </tbody>\n",
       "</table>\n",
       "</div>"
      ],
      "text/plain": [
       "    brand processor_brand processor_name processor_gnrtn ram_gb ram_type  \\\n",
       "0    ASUS           Intel        Core i3            10th   4 GB     DDR4   \n",
       "1  Lenovo           Intel        Core i3            10th   4 GB     DDR4   \n",
       "2  Lenovo           Intel        Core i3            10th   4 GB     DDR4   \n",
       "3    ASUS           Intel        Core i5            10th   8 GB     DDR4   \n",
       "4    ASUS           Intel   Celeron Dual   Not Available   4 GB     DDR4   \n",
       "\n",
       "      ssd      hdd       os  os_bit graphic_card_gb  weight     warranty  \\\n",
       "0    0 GB  1024 GB  Windows  64-bit            0 GB  Casual  No warranty   \n",
       "1    0 GB  1024 GB  Windows  64-bit            0 GB  Casual  No warranty   \n",
       "2    0 GB  1024 GB  Windows  64-bit            0 GB  Casual  No warranty   \n",
       "3  512 GB     0 GB  Windows  32-bit            2 GB  Casual  No warranty   \n",
       "4    0 GB   512 GB  Windows  64-bit            0 GB  Casual  No warranty   \n",
       "\n",
       "  Touchscreen msoffice  Price   rating  Number of Ratings  Number of Reviews  \n",
       "0          No       No  34649  2 stars                  3                  0  \n",
       "1          No       No  38999  3 stars                 65                  5  \n",
       "2          No       No  39999  3 stars                  8                  1  \n",
       "3          No       No  69990  3 stars                  0                  0  \n",
       "4          No       No  26990  3 stars                  0                  0  "
      ]
     },
     "execution_count": 2,
     "metadata": {},
     "output_type": "execute_result"
    }
   ],
   "source": [
    "df = pd.read_csv('laptopPrice.csv')\n",
    "df.head()"
   ]
  },
  {
   "cell_type": "code",
   "execution_count": 3,
   "id": "e37b5241",
   "metadata": {},
   "outputs": [
    {
     "name": "stdout",
     "output_type": "stream",
     "text": [
      "<class 'pandas.core.frame.DataFrame'>\n",
      "RangeIndex: 823 entries, 0 to 822\n",
      "Data columns (total 19 columns):\n",
      " #   Column             Non-Null Count  Dtype \n",
      "---  ------             --------------  ----- \n",
      " 0   brand              823 non-null    object\n",
      " 1   processor_brand    823 non-null    object\n",
      " 2   processor_name     823 non-null    object\n",
      " 3   processor_gnrtn    823 non-null    object\n",
      " 4   ram_gb             823 non-null    object\n",
      " 5   ram_type           823 non-null    object\n",
      " 6   ssd                823 non-null    object\n",
      " 7   hdd                823 non-null    object\n",
      " 8   os                 823 non-null    object\n",
      " 9   os_bit             823 non-null    object\n",
      " 10  graphic_card_gb    823 non-null    object\n",
      " 11  weight             823 non-null    object\n",
      " 12  warranty           823 non-null    object\n",
      " 13  Touchscreen        823 non-null    object\n",
      " 14  msoffice           823 non-null    object\n",
      " 15  Price              823 non-null    int64 \n",
      " 16  rating             823 non-null    object\n",
      " 17  Number of Ratings  823 non-null    int64 \n",
      " 18  Number of Reviews  823 non-null    int64 \n",
      "dtypes: int64(3), object(16)\n",
      "memory usage: 122.3+ KB\n"
     ]
    }
   ],
   "source": [
    "df.info()"
   ]
  },
  {
   "cell_type": "markdown",
   "id": "999799ae",
   "metadata": {},
   "source": [
    "## Data Cleaning"
   ]
  },
  {
   "cell_type": "markdown",
   "id": "4612abdf",
   "metadata": {},
   "source": [
    "- Let us extract the values from the texts (objects) in processor name, generations, ram, ssd, graphic_card_gb,warranty,os_bit and ratings. The goal is to make the datas clean and no numerical values mixed with string values on the same columns.\n",
    "- The datatype of those columns must also be formated as float"
   ]
  },
  {
   "cell_type": "code",
   "execution_count": 5,
   "id": "414a6fd2",
   "metadata": {},
   "outputs": [],
   "source": [
    "remove_gb = lambda x: x.replace('GB','')\n",
    "df['ram_gb']=df['ram_gb'].apply(remove_gb)\n",
    "remove_th = lambda x: x.replace('th','')\n",
    "df.processor_gnrtn=df.processor_gnrtn.apply(remove_th)\n",
    "df.graphic_card_gb = df.graphic_card_gb.apply(remove_gb)\n",
    "df.ssd = df.ssd.apply(remove_gb)\n",
    "df.hdd = df.hdd.apply(remove_gb)\n",
    "remove_stars = lambda x: x.replace('stars','')\n",
    "df.rating=df.rating.apply(remove_stars)"
   ]
  },
  {
   "cell_type": "code",
   "execution_count": 6,
   "id": "24f7b7c0",
   "metadata": {},
   "outputs": [],
   "source": [
    "def warranty_to_num(x):\n",
    "    x = x.replace('year','')\n",
    "    x = x.replace('s','')\n",
    "    if 'No' in x.split():\n",
    "        y = 0\n",
    "    else:\n",
    "        y = x\n",
    "    return int(y)\n",
    "\n",
    "df.warranty = df.warranty.apply(warranty_to_num)"
   ]
  },
  {
   "cell_type": "code",
   "execution_count": 7,
   "id": "ec6c5063",
   "metadata": {},
   "outputs": [
    {
     "data": {
      "text/plain": [
       "array([0, 1, 2, 3])"
      ]
     },
     "execution_count": 7,
     "metadata": {},
     "output_type": "execute_result"
    }
   ],
   "source": [
    "df.warranty.unique()"
   ]
  },
  {
   "cell_type": "code",
   "execution_count": 8,
   "id": "e68b6da1",
   "metadata": {},
   "outputs": [],
   "source": [
    "def create_corei(x):\n",
    "    x = str(x)\n",
    "    if('Core i' in x):\n",
    "        x = x.replace('Core i','')\n",
    "        return float(x)\n",
    "    else:\n",
    "        return np.nan"
   ]
  },
  {
   "cell_type": "code",
   "execution_count": 9,
   "id": "92fab66f",
   "metadata": {},
   "outputs": [
    {
     "data": {
      "text/plain": [
       "Core i5         290\n",
       "Core i3         164\n",
       "Core i7         110\n",
       "Ryzen 5          82\n",
       "Ryzen 7          56\n",
       "Ryzen 3          26\n",
       "Ryzen 9          26\n",
       "Celeron Dual     24\n",
       "M1               24\n",
       "Pentium Quad     13\n",
       "Core i9           8\n",
       "Name: processor_name, dtype: int64"
      ]
     },
     "execution_count": 9,
     "metadata": {},
     "output_type": "execute_result"
    }
   ],
   "source": [
    "df['processor_name'].value_counts()"
   ]
  },
  {
   "cell_type": "code",
   "execution_count": 10,
   "id": "088ff608",
   "metadata": {},
   "outputs": [],
   "source": [
    "df.rating = df.rating.apply(lambda x: x.replace('star',''))"
   ]
  },
  {
   "cell_type": "code",
   "execution_count": 11,
   "id": "20ded76f",
   "metadata": {},
   "outputs": [],
   "source": [
    "num = ['ram_gb','processor_gnrtn','ssd','hdd','os_bit','graphic_card_gb','warranty','rating','Number of Ratings','Number of Reviews','core_i']"
   ]
  },
  {
   "cell_type": "code",
   "execution_count": 12,
   "id": "9bd495d2",
   "metadata": {},
   "outputs": [
    {
     "data": {
      "text/plain": [
       "11               334\n",
       "Not Available    225\n",
       "10               204\n",
       "8                 41\n",
       "7                  9\n",
       "9                  6\n",
       "12                 3\n",
       "4                  1\n",
       "Name: processor_gnrtn, dtype: int64"
      ]
     },
     "execution_count": 12,
     "metadata": {},
     "output_type": "execute_result"
    }
   ],
   "source": [
    "df['processor_gnrtn'].value_counts()"
   ]
  },
  {
   "cell_type": "markdown",
   "id": "c907a062",
   "metadata": {},
   "source": [
    "There are 225 \"Not Available\" processor generation. Let us see which type of processor are those unknown"
   ]
  },
  {
   "cell_type": "code",
   "execution_count": 13,
   "id": "7ca3f2f3",
   "metadata": {},
   "outputs": [
    {
     "data": {
      "text/plain": [
       "Ryzen 5         78\n",
       "Ryzen 7         56\n",
       "Ryzen 3         26\n",
       "Ryzen 9         26\n",
       "Celeron Dual    24\n",
       "Pentium Quad    13\n",
       "Core i5          2\n",
       "Name: processor_name, dtype: int64"
      ]
     },
     "execution_count": 13,
     "metadata": {},
     "output_type": "execute_result"
    }
   ],
   "source": [
    "df['processor_name'][df['processor_gnrtn']=='Not Available'].value_counts()"
   ]
  },
  {
   "cell_type": "markdown",
   "id": "d1503838",
   "metadata": {},
   "source": [
    "Here we have 251 \"Core i\" processors and 225 "
   ]
  },
  {
   "cell_type": "markdown",
   "id": "1585445a",
   "metadata": {},
   "source": [
    "223/225 non core_i processors are unknown generations. So for the non-corei processors, they does not have known generations."
   ]
  },
  {
   "cell_type": "code",
   "execution_count": 14,
   "id": "fdf4e589",
   "metadata": {},
   "outputs": [
    {
     "data": {
      "text/plain": [
       "Core i5    288\n",
       "Core i3    164\n",
       "Core i7    110\n",
       "M1          24\n",
       "Core i9      8\n",
       "Ryzen 5      4\n",
       "Name: processor_name, dtype: int64"
      ]
     },
     "execution_count": 14,
     "metadata": {},
     "output_type": "execute_result"
    }
   ],
   "source": [
    "df['processor_name'][df['processor_gnrtn']!='Not Available'].value_counts()"
   ]
  },
  {
   "cell_type": "markdown",
   "id": "19c8cd63",
   "metadata": {},
   "source": [
    "- For the non-corei processor, 24 M1 and 4 Ryzen 5 has known generation\n",
    "- So let us divide our dataset in three types: Corei Processor, Ryzen, and others"
   ]
  },
  {
   "cell_type": "code",
   "execution_count": 15,
   "id": "74a3247f",
   "metadata": {},
   "outputs": [],
   "source": [
    "class proc_features():\n",
    "    def __init__(self, feature=None):\n",
    "        self.feature=feature\n",
    "    \n",
    "    def create(self,x):\n",
    "        x = str(x)\n",
    "        if(self.feature in x):\n",
    "            x = x.replace(self.feature,'')\n",
    "            return float(x)\n",
    "        else:\n",
    "            return np.nan"
   ]
  },
  {
   "cell_type": "code",
   "execution_count": 16,
   "id": "b38f0dbd",
   "metadata": {},
   "outputs": [
    {
     "data": {
      "text/plain": [
       "Core i5         290\n",
       "Core i3         164\n",
       "Core i7         110\n",
       "Ryzen 5          82\n",
       "Ryzen 7          56\n",
       "Ryzen 3          26\n",
       "Ryzen 9          26\n",
       "Celeron Dual     24\n",
       "M1               24\n",
       "Pentium Quad     13\n",
       "Core i9           8\n",
       "Name: processor_name, dtype: int64"
      ]
     },
     "execution_count": 16,
     "metadata": {},
     "output_type": "execute_result"
    }
   ],
   "source": [
    "df['processor_name'].value_counts()"
   ]
  },
  {
   "cell_type": "code",
   "execution_count": 17,
   "id": "ef31d470",
   "metadata": {},
   "outputs": [],
   "source": [
    "corei = proc_features(feature='Core i')\n",
    "ryzen = proc_features(feature='Ryzen')"
   ]
  },
  {
   "cell_type": "code",
   "execution_count": 18,
   "id": "8c69807d",
   "metadata": {},
   "outputs": [],
   "source": [
    "df['proc_corei']=df['processor_name'].apply(corei.create)"
   ]
  },
  {
   "cell_type": "code",
   "execution_count": 19,
   "id": "57dc376b",
   "metadata": {},
   "outputs": [],
   "source": [
    "df['proc_ryzen']=df['processor_name'].apply(ryzen.create)"
   ]
  },
  {
   "cell_type": "code",
   "execution_count": 20,
   "id": "3216cc8b",
   "metadata": {},
   "outputs": [
    {
     "data": {
      "text/plain": [
       "Windows    779\n",
       "Mac         28\n",
       "DOS         16\n",
       "Name: os, dtype: int64"
      ]
     },
     "execution_count": 20,
     "metadata": {},
     "output_type": "execute_result"
    }
   ],
   "source": [
    "df.os.value_counts()"
   ]
  },
  {
   "cell_type": "markdown",
   "id": "57a0d74c",
   "metadata": {},
   "source": [
    "Most of the computer has windows operating system. Just the APPLE will have the MacOS and the DOS is very rare.\n",
    "Let us also drop this column "
   ]
  },
  {
   "cell_type": "code",
   "execution_count": 21,
   "id": "93b3ca2d",
   "metadata": {},
   "outputs": [
    {
     "data": {
      "text/plain": [
       "64-bit    714\n",
       "32-bit    109\n",
       "Name: os_bit, dtype: int64"
      ]
     },
     "execution_count": 21,
     "metadata": {},
     "output_type": "execute_result"
    }
   ],
   "source": [
    "df.os_bit.value_counts()"
   ]
  },
  {
   "cell_type": "markdown",
   "id": "e0dc13ec",
   "metadata": {},
   "source": [
    "For any common cases, Most of computers has 64 bits OS system installed. It is also easy for the sales person or the technicians to switch the OS based on the customers preference. It could be better if we remove that column."
   ]
  },
  {
   "cell_type": "code",
   "execution_count": 22,
   "id": "2740f098",
   "metadata": {},
   "outputs": [],
   "source": [
    "df.os_bit=df.os_bit.str.replace('-bit','').astype('float64')"
   ]
  },
  {
   "cell_type": "code",
   "execution_count": 23,
   "id": "bd59b9e2",
   "metadata": {},
   "outputs": [],
   "source": [
    "df.rating=df.rating.str.replace(' s','').astype('float64')"
   ]
  },
  {
   "cell_type": "markdown",
   "id": "0da907c8",
   "metadata": {},
   "source": [
    "## Exploratory Data Analysis "
   ]
  },
  {
   "cell_type": "code",
   "execution_count": 24,
   "id": "c0a0cb43",
   "metadata": {},
   "outputs": [
    {
     "data": {
      "text/html": [
       "<div>\n",
       "<style scoped>\n",
       "    .dataframe tbody tr th:only-of-type {\n",
       "        vertical-align: middle;\n",
       "    }\n",
       "\n",
       "    .dataframe tbody tr th {\n",
       "        vertical-align: top;\n",
       "    }\n",
       "\n",
       "    .dataframe thead th {\n",
       "        text-align: right;\n",
       "    }\n",
       "</style>\n",
       "<table border=\"1\" class=\"dataframe\">\n",
       "  <thead>\n",
       "    <tr style=\"text-align: right;\">\n",
       "      <th></th>\n",
       "      <th>brand</th>\n",
       "      <th>processor_brand</th>\n",
       "      <th>processor_name</th>\n",
       "      <th>processor_gnrtn</th>\n",
       "      <th>ram_gb</th>\n",
       "      <th>ram_type</th>\n",
       "      <th>ssd</th>\n",
       "      <th>hdd</th>\n",
       "      <th>os</th>\n",
       "      <th>os_bit</th>\n",
       "      <th>...</th>\n",
       "      <th>weight</th>\n",
       "      <th>warranty</th>\n",
       "      <th>Touchscreen</th>\n",
       "      <th>msoffice</th>\n",
       "      <th>Price</th>\n",
       "      <th>rating</th>\n",
       "      <th>Number of Ratings</th>\n",
       "      <th>Number of Reviews</th>\n",
       "      <th>proc_corei</th>\n",
       "      <th>proc_ryzen</th>\n",
       "    </tr>\n",
       "  </thead>\n",
       "  <tbody>\n",
       "    <tr>\n",
       "      <th>0</th>\n",
       "      <td>ASUS</td>\n",
       "      <td>Intel</td>\n",
       "      <td>Core i3</td>\n",
       "      <td>10</td>\n",
       "      <td>4</td>\n",
       "      <td>DDR4</td>\n",
       "      <td>0</td>\n",
       "      <td>1024</td>\n",
       "      <td>Windows</td>\n",
       "      <td>64.0</td>\n",
       "      <td>...</td>\n",
       "      <td>Casual</td>\n",
       "      <td>0</td>\n",
       "      <td>No</td>\n",
       "      <td>No</td>\n",
       "      <td>34649</td>\n",
       "      <td>2.0</td>\n",
       "      <td>3</td>\n",
       "      <td>0</td>\n",
       "      <td>3.0</td>\n",
       "      <td>NaN</td>\n",
       "    </tr>\n",
       "    <tr>\n",
       "      <th>1</th>\n",
       "      <td>Lenovo</td>\n",
       "      <td>Intel</td>\n",
       "      <td>Core i3</td>\n",
       "      <td>10</td>\n",
       "      <td>4</td>\n",
       "      <td>DDR4</td>\n",
       "      <td>0</td>\n",
       "      <td>1024</td>\n",
       "      <td>Windows</td>\n",
       "      <td>64.0</td>\n",
       "      <td>...</td>\n",
       "      <td>Casual</td>\n",
       "      <td>0</td>\n",
       "      <td>No</td>\n",
       "      <td>No</td>\n",
       "      <td>38999</td>\n",
       "      <td>3.0</td>\n",
       "      <td>65</td>\n",
       "      <td>5</td>\n",
       "      <td>3.0</td>\n",
       "      <td>NaN</td>\n",
       "    </tr>\n",
       "    <tr>\n",
       "      <th>2</th>\n",
       "      <td>Lenovo</td>\n",
       "      <td>Intel</td>\n",
       "      <td>Core i3</td>\n",
       "      <td>10</td>\n",
       "      <td>4</td>\n",
       "      <td>DDR4</td>\n",
       "      <td>0</td>\n",
       "      <td>1024</td>\n",
       "      <td>Windows</td>\n",
       "      <td>64.0</td>\n",
       "      <td>...</td>\n",
       "      <td>Casual</td>\n",
       "      <td>0</td>\n",
       "      <td>No</td>\n",
       "      <td>No</td>\n",
       "      <td>39999</td>\n",
       "      <td>3.0</td>\n",
       "      <td>8</td>\n",
       "      <td>1</td>\n",
       "      <td>3.0</td>\n",
       "      <td>NaN</td>\n",
       "    </tr>\n",
       "    <tr>\n",
       "      <th>3</th>\n",
       "      <td>ASUS</td>\n",
       "      <td>Intel</td>\n",
       "      <td>Core i5</td>\n",
       "      <td>10</td>\n",
       "      <td>8</td>\n",
       "      <td>DDR4</td>\n",
       "      <td>512</td>\n",
       "      <td>0</td>\n",
       "      <td>Windows</td>\n",
       "      <td>32.0</td>\n",
       "      <td>...</td>\n",
       "      <td>Casual</td>\n",
       "      <td>0</td>\n",
       "      <td>No</td>\n",
       "      <td>No</td>\n",
       "      <td>69990</td>\n",
       "      <td>3.0</td>\n",
       "      <td>0</td>\n",
       "      <td>0</td>\n",
       "      <td>5.0</td>\n",
       "      <td>NaN</td>\n",
       "    </tr>\n",
       "    <tr>\n",
       "      <th>4</th>\n",
       "      <td>ASUS</td>\n",
       "      <td>Intel</td>\n",
       "      <td>Celeron Dual</td>\n",
       "      <td>Not Available</td>\n",
       "      <td>4</td>\n",
       "      <td>DDR4</td>\n",
       "      <td>0</td>\n",
       "      <td>512</td>\n",
       "      <td>Windows</td>\n",
       "      <td>64.0</td>\n",
       "      <td>...</td>\n",
       "      <td>Casual</td>\n",
       "      <td>0</td>\n",
       "      <td>No</td>\n",
       "      <td>No</td>\n",
       "      <td>26990</td>\n",
       "      <td>3.0</td>\n",
       "      <td>0</td>\n",
       "      <td>0</td>\n",
       "      <td>NaN</td>\n",
       "      <td>NaN</td>\n",
       "    </tr>\n",
       "  </tbody>\n",
       "</table>\n",
       "<p>5 rows × 21 columns</p>\n",
       "</div>"
      ],
      "text/plain": [
       "    brand processor_brand processor_name processor_gnrtn ram_gb ram_type  \\\n",
       "0    ASUS           Intel        Core i3              10     4      DDR4   \n",
       "1  Lenovo           Intel        Core i3              10     4      DDR4   \n",
       "2  Lenovo           Intel        Core i3              10     4      DDR4   \n",
       "3    ASUS           Intel        Core i5              10     8      DDR4   \n",
       "4    ASUS           Intel   Celeron Dual   Not Available     4      DDR4   \n",
       "\n",
       "    ssd    hdd       os  os_bit  ...  weight warranty  Touchscreen msoffice  \\\n",
       "0    0   1024   Windows    64.0  ...  Casual        0           No       No   \n",
       "1    0   1024   Windows    64.0  ...  Casual        0           No       No   \n",
       "2    0   1024   Windows    64.0  ...  Casual        0           No       No   \n",
       "3  512      0   Windows    32.0  ...  Casual        0           No       No   \n",
       "4    0    512   Windows    64.0  ...  Casual        0           No       No   \n",
       "\n",
       "   Price  rating  Number of Ratings  Number of Reviews  proc_corei  proc_ryzen  \n",
       "0  34649     2.0                  3                  0         3.0         NaN  \n",
       "1  38999     3.0                 65                  5         3.0         NaN  \n",
       "2  39999     3.0                  8                  1         3.0         NaN  \n",
       "3  69990     3.0                  0                  0         5.0         NaN  \n",
       "4  26990     3.0                  0                  0         NaN         NaN  \n",
       "\n",
       "[5 rows x 21 columns]"
      ]
     },
     "execution_count": 24,
     "metadata": {},
     "output_type": "execute_result"
    }
   ],
   "source": [
    "df.head()"
   ]
  },
  {
   "cell_type": "code",
   "execution_count": 25,
   "id": "425db4e3",
   "metadata": {},
   "outputs": [],
   "source": [
    "cat = ['brand','processor_brand','processor_name','os','weight','Touchscreen','msoffice']\n",
    "num = ['proc_corei','proc_ryzen','processor_gnrtn','ram_gb','ssd','hdd','warranty','graphic_card_gb','Price','rating','Number of Ratings','Number of Reviews']"
   ]
  },
  {
   "cell_type": "code",
   "execution_count": 26,
   "id": "fa7360d4",
   "metadata": {},
   "outputs": [],
   "source": [
    "df.processor_gnrtn=df.processor_gnrtn.str.replace('Not Available','NaN').astype('float64')"
   ]
  },
  {
   "cell_type": "code",
   "execution_count": 27,
   "id": "983c0a4a",
   "metadata": {},
   "outputs": [],
   "source": [
    "df[cat]=df[cat].astype('category')\n",
    "df[num]=df[num].astype('float64')"
   ]
  },
  {
   "cell_type": "code",
   "execution_count": 36,
   "id": "ca79ee9a",
   "metadata": {},
   "outputs": [
    {
     "data": {
      "text/plain": [
       "<AxesSubplot:xlabel='proc_corei', ylabel='count'>"
      ]
     },
     "execution_count": 36,
     "metadata": {},
     "output_type": "execute_result"
    },
    {
     "data": {
      "image/png": "[encoded data removed]",
      "text/plain": [
       "<Figure size 576x288 with 1 Axes>"
      ]
     },
     "metadata": {
      "needs_background": "light"
     },
     "output_type": "display_data"
    }
   ],
   "source": [
    "plt.figure(figsize=(8,4))\n",
    "sns.countplot(x=df.proc_corei,color='gray')"
   ]
  },
  {
   "cell_type": "code",
   "execution_count": 37,
   "id": "43a8ffeb",
   "metadata": {},
   "outputs": [
    {
     "data": {
      "text/plain": [
       "<AxesSubplot:xlabel='proc_ryzen', ylabel='count'>"
      ]
     },
     "execution_count": 37,
     "metadata": {},
     "output_type": "execute_result"
    },
    {
     "data": {
      "image/png": "[encoded data removed]",
      "text/plain": [
       "<Figure size 576x288 with 1 Axes>"
      ]
     },
     "metadata": {
      "needs_background": "light"
     },
     "output_type": "display_data"
    }
   ],
   "source": [
    "plt.figure(figsize=(8,4))\n",
    "sns.countplot(x=df.proc_ryzen,color='gray')"
   ]
  },
  {
   "cell_type": "markdown",
   "id": "a4eeb608",
   "metadata": {},
   "source": [
    "The data has 80 Ryzen5 processor machines and around 60 ryzen 7 processors."
   ]
  },
  {
   "cell_type": "code",
   "execution_count": 40,
   "id": "0c5ab0b5",
   "metadata": {},
   "outputs": [
    {
     "data": {
      "text/plain": [
       "<AxesSubplot:xlabel='brand', ylabel='count'>"
      ]
     },
     "execution_count": 40,
     "metadata": {},
     "output_type": "execute_result"
    },
    {
     "data": {
      "image/png": "[encoded data removed]",
      "text/plain": [
       "<Figure size 576x288 with 1 Axes>"
      ]
     },
     "metadata": {
      "needs_background": "light"
     },
     "output_type": "display_data"
    }
   ],
   "source": [
    "plt.figure(figsize=(8,4))\n",
    "sns.countplot(x=df.brand,color='gray')"
   ]
  },
  {
   "cell_type": "code",
   "execution_count": 41,
   "id": "5d17f2de",
   "metadata": {},
   "outputs": [
    {
     "data": {
      "text/plain": [
       "<AxesSubplot:xlabel='processor_brand', ylabel='count'>"
      ]
     },
     "execution_count": 41,
     "metadata": {},
     "output_type": "execute_result"
    },
    {
     "data": {
      "image/png": "[encoded data removed]",
      "text/plain": [
       "<Figure size 576x288 with 1 Axes>"
      ]
     },
     "metadata": {
      "needs_background": "light"
     },
     "output_type": "display_data"
    }
   ],
   "source": [
    "plt.figure(figsize=(8,4))\n",
    "sns.countplot(x=df.processor_brand,color='gray')"
   ]
  },
  {
   "cell_type": "markdown",
   "id": "3e8624a8",
   "metadata": {},
   "source": [
    "As expected, Intel will have the most count. And M1 is small since it is the most expensive (MacOS machine)"
   ]
  },
  {
   "cell_type": "code",
   "execution_count": 32,
   "id": "75184859",
   "metadata": {},
   "outputs": [
    {
     "data": {
      "text/plain": [
       "Intel    610\n",
       "AMD      189\n",
       "M1        24\n",
       "Name: processor_brand, dtype: int64"
      ]
     },
     "execution_count": 32,
     "metadata": {},
     "output_type": "execute_result"
    }
   ],
   "source": [
    "df.processor_brand.value_counts()"
   ]
  },
  {
   "cell_type": "code",
   "execution_count": 42,
   "id": "624a5d8e",
   "metadata": {},
   "outputs": [
    {
     "data": {
      "text/plain": [
       "<AxesSubplot:xlabel='processor_name', ylabel='count'>"
      ]
     },
     "execution_count": 42,
     "metadata": {},
     "output_type": "execute_result"
    },
    {
     "data": {
      "image/png": "[encoded data removed]",
      "text/plain": [
       "<Figure size 1080x288 with 1 Axes>"
      ]
     },
     "metadata": {
      "needs_background": "light"
     },
     "output_type": "display_data"
    }
   ],
   "source": [
    "plt.figure(figsize=(15,4))\n",
    "sns.countplot(x=df.processor_name,color='gray')"
   ]
  },
  {
   "cell_type": "code",
   "execution_count": 43,
   "id": "7bd17ea2",
   "metadata": {},
   "outputs": [
    {
     "data": {
      "text/plain": [
       "<AxesSubplot:xlabel='processor_gnrtn', ylabel='count'>"
      ]
     },
     "execution_count": 43,
     "metadata": {},
     "output_type": "execute_result"
    },
    {
     "data": {
      "image/png": "[encoded data removed]",
      "text/plain": [
       "<Figure size 576x288 with 1 Axes>"
      ]
     },
     "metadata": {
      "needs_background": "light"
     },
     "output_type": "display_data"
    }
   ],
   "source": [
    "plt.figure(figsize=(8,4))\n",
    "sns.countplot(x=df.processor_gnrtn,color='gray')"
   ]
  },
  {
   "cell_type": "markdown",
   "id": "b323f828",
   "metadata": {},
   "source": [
    "11th generation has the most counts in the data. 11th generation is best uses for gaming purposes and high end computational loads"
   ]
  },
  {
   "cell_type": "code",
   "execution_count": 44,
   "id": "63a078fb",
   "metadata": {},
   "outputs": [
    {
     "data": {
      "text/plain": [
       "<AxesSubplot:>"
      ]
     },
     "execution_count": 44,
     "metadata": {},
     "output_type": "execute_result"
    },
    {
     "data": {
      "image/png": "[encoded data removed]",
      "text/plain": [
       "<Figure size 432x288 with 1 Axes>"
      ]
     },
     "metadata": {
      "needs_background": "light"
     },
     "output_type": "display_data"
    }
   ],
   "source": [
    "df['os'].hist()"
   ]
  },
  {
   "cell_type": "markdown",
   "id": "7d466724",
   "metadata": {},
   "source": [
    "Most of the computers are windows. Mac OS is only for the Apple brand."
   ]
  },
  {
   "cell_type": "code",
   "execution_count": 45,
   "id": "3bc71c29",
   "metadata": {},
   "outputs": [
    {
     "data": {
      "text/plain": [
       "<AxesSubplot:>"
      ]
     },
     "execution_count": 45,
     "metadata": {},
     "output_type": "execute_result"
    },
    {
     "data": {
      "image/png": "[encoded data removed]",
      "text/plain": [
       "<Figure size 432x288 with 1 Axes>"
      ]
     },
     "metadata": {
      "needs_background": "light"
     },
     "output_type": "display_data"
    }
   ],
   "source": [
    "df.weight.hist()"
   ]
  },
  {
   "cell_type": "code",
   "execution_count": 46,
   "id": "a78264f8",
   "metadata": {},
   "outputs": [
    {
     "data": {
      "text/plain": [
       "12"
      ]
     },
     "execution_count": 46,
     "metadata": {},
     "output_type": "execute_result"
    }
   ],
   "source": [
    "len(num)"
   ]
  },
  {
   "cell_type": "markdown",
   "id": "31e8c5f0",
   "metadata": {},
   "source": [
    "Casual is about 500 of them, ThinNlight about 270 and few of them are gaming."
   ]
  },
  {
   "cell_type": "code",
   "execution_count": 47,
   "id": "7d7cb154",
   "metadata": {},
   "outputs": [
    {
     "data": {
      "image/png": "[encoded data removed]",
      "text/plain": [
       "<Figure size 1440x720 with 12 Axes>"
      ]
     },
     "metadata": {
      "needs_background": "light"
     },
     "output_type": "display_data"
    }
   ],
   "source": [
    "fig, ax = plt.subplots(3,4,figsize=(20,10))\n",
    "ax = ax.flatten()\n",
    "for i in range(len(num)):\n",
    "    sns.histplot(x=df[num[i]],ax=ax[i])"
   ]
  },
  {
   "cell_type": "code",
   "execution_count": 48,
   "id": "05875e4f",
   "metadata": {},
   "outputs": [
    {
     "data": {
      "text/plain": [
       "<AxesSubplot:xlabel='proc_corei', ylabel='Price'>"
      ]
     },
     "execution_count": 48,
     "metadata": {},
     "output_type": "execute_result"
    },
    {
     "data": {
      "image/png": "[encoded data removed]",
      "text/plain": [
       "<Figure size 864x288 with 2 Axes>"
      ]
     },
     "metadata": {
      "needs_background": "light"
     },
     "output_type": "display_data"
    }
   ],
   "source": [
    "fig, ax = plt.subplots(1,2,figsize=(12,4))\n",
    "ax = ax.flatten()\n",
    "sns.scatterplot(x=df['proc_ryzen'],y=df['Price'],ax=ax[0])\n",
    "sns.scatterplot(x=df['proc_corei'],y=df['Price'],ax=ax[1])"
   ]
  },
  {
   "cell_type": "markdown",
   "id": "7edf8e7c",
   "metadata": {},
   "source": [
    "Here we see some patterns that the price rises when the processor rises. It is an indicative of correlations between processor and the price"
   ]
  },
  {
   "cell_type": "code",
   "execution_count": 49,
   "id": "27e776c4",
   "metadata": {},
   "outputs": [
    {
     "data": {
      "text/plain": [
       "<AxesSubplot:xlabel='ram_gb', ylabel='Price'>"
      ]
     },
     "execution_count": 49,
     "metadata": {},
     "output_type": "execute_result"
    },
    {
     "data": {
      "image/png": "[encoded data removed]",
      "text/plain": [
       "<Figure size 432x288 with 1 Axes>"
      ]
     },
     "metadata": {
      "needs_background": "light"
     },
     "output_type": "display_data"
    }
   ],
   "source": [
    "sns.scatterplot(x=df['ram_gb'],y=df['Price'])"
   ]
  },
  {
   "cell_type": "code",
   "execution_count": 50,
   "id": "b5f79f29",
   "metadata": {},
   "outputs": [
    {
     "data": {
      "text/plain": [
       "<AxesSubplot:xlabel='processor_gnrtn', ylabel='Price'>"
      ]
     },
     "execution_count": 50,
     "metadata": {},
     "output_type": "execute_result"
    },
    {
     "data": {
      "image/png": "[encoded data removed]",
      "text/plain": [
       "<Figure size 432x288 with 1 Axes>"
      ]
     },
     "metadata": {
      "needs_background": "light"
     },
     "output_type": "display_data"
    }
   ],
   "source": [
    "sns.scatterplot(x=df['processor_gnrtn'],y=df['Price'])"
   ]
  },
  {
   "cell_type": "code",
   "execution_count": 51,
   "id": "76b470d8",
   "metadata": {},
   "outputs": [
    {
     "data": {
      "text/plain": [
       "<AxesSubplot:xlabel='proc_corei', ylabel='Price'>"
      ]
     },
     "execution_count": 51,
     "metadata": {},
     "output_type": "execute_result"
    },
    {
     "data": {
      "image/png": "[encoded data removed]",
      "text/plain": [
       "<Figure size 864x288 with 2 Axes>"
      ]
     },
     "metadata": {
      "needs_background": "light"
     },
     "output_type": "display_data"
    }
   ],
   "source": [
    "fig, ax = plt.subplots(1,2,figsize=(12,4))\n",
    "ax = ax.flatten()\n",
    "sns.boxplot(x=df['proc_ryzen'],y=df['Price'],ax=ax[0])\n",
    "sns.boxplot(x=df['proc_corei'],y=df['Price'],ax=ax[1])"
   ]
  },
  {
   "cell_type": "code",
   "execution_count": 52,
   "id": "222fd312",
   "metadata": {},
   "outputs": [
    {
     "data": {
      "text/plain": [
       "<AxesSubplot:xlabel='proc_corei'>"
      ]
     },
     "execution_count": 52,
     "metadata": {},
     "output_type": "execute_result"
    },
    {
     "data": {
      "image/png": "[encoded data removed]",
      "text/plain": [
       "<Figure size 864x288 with 2 Axes>"
      ]
     },
     "metadata": {
      "needs_background": "light"
     },
     "output_type": "display_data"
    }
   ],
   "source": [
    "fig, ax = plt.subplots(1,2,figsize=(12,4))\n",
    "ax = ax.flatten()\n",
    "sns.boxplot(x=df['proc_ryzen'],ax=ax[0])\n",
    "sns.boxplot(x=df['proc_corei'],ax=ax[1])"
   ]
  },
  {
   "cell_type": "code",
   "execution_count": 53,
   "id": "11182299",
   "metadata": {},
   "outputs": [],
   "source": [
    "df_r = df[df['proc_ryzen'].isna()==False].drop(['proc_corei','processor_name','processor_brand','processor_gnrtn'],axis=1).copy()"
   ]
  },
  {
   "cell_type": "code",
   "execution_count": 54,
   "id": "09a3c68b",
   "metadata": {},
   "outputs": [],
   "source": [
    "df_c = df[df['proc_corei'].isna()==False].drop(['proc_ryzen','processor_name','processor_brand'],axis=1).copy()"
   ]
  },
  {
   "cell_type": "markdown",
   "id": "802c7d0b",
   "metadata": {},
   "source": [
    "# Model Building"
   ]
  },
  {
   "cell_type": "markdown",
   "id": "ff710e6f",
   "metadata": {},
   "source": [
    "### Predict the price for Core i Processor"
   ]
  },
  {
   "cell_type": "markdown",
   "id": "d786f85f",
   "metadata": {},
   "source": [
    "For the model building part, we will train a Ridge Regression model. Before feeding the model, the data is Preprocessed as follow:\n",
    "- Numerical features are scaled using RobustScaler (based on their median and their IQR) to limits the outliers effects\n",
    "- Categorical Variables are encoded via OneHotEncoder\n",
    "- We will use PCA to reduce the multicollinearity effect between the input variables\n",
    "Then we train the model. Those steps are inside a Scikit-Learn pipeline in order to avoid Data Leakage.\n",
    "\n",
    "Finally the trained model will be optimized to find the best \"alpha\" coefficient using a Grid-Search algorithm.\n",
    "\n",
    "\"Learning Curves\" shows how our model is performing as the input data grows. It shows if the model overfits the training set or not."
   ]
  },
  {
   "cell_type": "code",
   "execution_count": 55,
   "id": "5c59bbf4",
   "metadata": {},
   "outputs": [],
   "source": [
    "df_c = df_c.dropna().drop_duplicates()"
   ]
  },
  {
   "cell_type": "code",
   "execution_count": 56,
   "id": "962df112",
   "metadata": {},
   "outputs": [
    {
     "data": {
      "text/plain": [
       "<AxesSubplot:>"
      ]
     },
     "execution_count": 56,
     "metadata": {},
     "output_type": "execute_result"
    },
    {
     "data": {
      "image/png": "[encoded data removed]",
      "text/plain": [
       "<Figure size 576x576 with 2 Axes>"
      ]
     },
     "metadata": {
      "needs_background": "light"
     },
     "output_type": "display_data"
    }
   ],
   "source": [
    "plt.figure(figsize=(8,8))\n",
    "sns.heatmap(abs(df_c.corr()),annot=True)"
   ]
  },
  {
   "cell_type": "code",
   "execution_count": 80,
   "id": "4a4053ff",
   "metadata": {},
   "outputs": [],
   "source": [
    "X = df_c.drop('Price',axis=1)\n",
    "y = df_c.Price"
   ]
  },
  {
   "cell_type": "code",
   "execution_count": 81,
   "id": "a0f7d912",
   "metadata": {},
   "outputs": [],
   "source": [
    "from sklearn.pipeline import make_pipeline\n",
    "from sklearn.compose import make_column_selector,make_column_transformer\n",
    "from sklearn.preprocessing import RobustScaler,OneHotEncoder,MinMaxScaler\n",
    "from sklearn.linear_model import Ridge\n",
    "from sklearn.decomposition import PCA"
   ]
  },
  {
   "cell_type": "code",
   "execution_count": 82,
   "id": "bc18979a",
   "metadata": {},
   "outputs": [],
   "source": [
    "num_selector = make_column_selector(dtype_include='float64')\n",
    "cat_selector = make_column_selector(dtype_exclude='float64')"
   ]
  },
  {
   "cell_type": "code",
   "execution_count": 83,
   "id": "aae8edfc",
   "metadata": {},
   "outputs": [],
   "source": [
    "transformer_pipeline = make_column_transformer((RobustScaler(),num_selector),(OneHotEncoder(handle_unknown='ignore'),cat_selector))\n",
    "pca = make_pipeline(MinMaxScaler(),PCA(random_state=33,whiten=True))\n",
    "preproc = make_pipeline(transformer_pipeline)"
   ]
  },
  {
   "cell_type": "code",
   "execution_count": 84,
   "id": "a398eb04",
   "metadata": {},
   "outputs": [],
   "source": [
    "from sklearn.model_selection import train_test_split\n",
    "X_train,X_test,Y_train,Y_test = train_test_split(X,y,shuffle=True,random_state=33,test_size=0.2)"
   ]
  },
  {
   "cell_type": "code",
   "execution_count": 85,
   "id": "d0762651",
   "metadata": {},
   "outputs": [
    {
     "data": {
      "text/plain": [
       "Pipeline(steps=[('pipeline',\n",
       "                 Pipeline(steps=[('columntransformer',\n",
       "                                  ColumnTransformer(transformers=[('robustscaler',\n",
       "                                                                   RobustScaler(),\n",
       "                                                                   <sklearn.compose._column_transformer.make_column_selector object at 0x7ff860394040>),\n",
       "                                                                  ('onehotencoder',\n",
       "                                                                   OneHotEncoder(handle_unknown='ignore'),\n",
       "                                                                   <sklearn.compose._column_transformer.make_column_selector object at 0x7ff860954f10>)]))])),\n",
       "                ('ridge', Ridge())])"
      ]
     },
     "execution_count": 85,
     "metadata": {},
     "output_type": "execute_result"
    }
   ],
   "source": [
    "ridge = make_pipeline(preproc,Ridge())\n",
    "ridge.fit(X_train,Y_train)"
   ]
  },
  {
   "cell_type": "code",
   "execution_count": 86,
   "id": "f09ea71a",
   "metadata": {},
   "outputs": [
    {
     "data": {
      "text/plain": [
       "0.7661766500069219"
      ]
     },
     "execution_count": 86,
     "metadata": {},
     "output_type": "execute_result"
    }
   ],
   "source": [
    "ridge.score(X_train,Y_train)"
   ]
  },
  {
   "cell_type": "code",
   "execution_count": 87,
   "id": "22ee202e",
   "metadata": {},
   "outputs": [
    {
     "data": {
      "text/plain": [
       "0.7263632182046327"
      ]
     },
     "execution_count": 87,
     "metadata": {},
     "output_type": "execute_result"
    }
   ],
   "source": [
    "ridge.score(X_test,Y_test)"
   ]
  },
  {
   "cell_type": "code",
   "execution_count": 88,
   "id": "48883160",
   "metadata": {},
   "outputs": [],
   "source": [
    "from sklearn.model_selection import learning_curve\n",
    "def plot_learning_curves(model):\n",
    "    (N,train_score,val_score)=learning_curve(estimator=model,X=X_train,y=Y_train,cv=5,scoring='r2',n_jobs=4)\n",
    "    train_score=train_score.mean(axis=1)\n",
    "    val_score=val_score.mean(axis=1)\n",
    "    plt.plot(N,train_score,color='orange',label='train_score')\n",
    "    plt.plot(N,val_score,color='blue',label='val_score')\n",
    "    plt.grid()\n",
    "    plt.xlabel('Training Size')\n",
    "    plt.ylabel('Score')\n",
    "    plt.title('Learning Curves')\n",
    "    plt.legend()\n",
    "    "
   ]
  },
  {
   "cell_type": "code",
   "execution_count": 89,
   "id": "da4d464d",
   "metadata": {},
   "outputs": [
    {
     "data": {
      "image/png": "[encoded data removed]",
      "text/plain": [
       "<Figure size 432x288 with 1 Axes>"
      ]
     },
     "metadata": {
      "needs_background": "light"
     },
     "output_type": "display_data"
    }
   ],
   "source": [
    "plot_learning_curves(ridge)"
   ]
  },
  {
   "cell_type": "code",
   "execution_count": 90,
   "id": "a703f7b3",
   "metadata": {},
   "outputs": [
    {
     "name": "stdout",
     "output_type": "stream",
     "text": [
      "{'ridge__alpha': 0.5}\n",
      "0.6417734930854163\n"
     ]
    }
   ],
   "source": [
    "from sklearn.model_selection import GridSearchCV\n",
    "\n",
    "grid = {'ridge__alpha':[0.01,0.1,0.2,0.5,0.9,1.3,1.6,1.9,2]}\n",
    "\n",
    "gs = GridSearchCV(estimator=ridge,param_grid=grid,scoring='r2',n_jobs=4)\n",
    "gs.fit(X_train,Y_train)\n",
    "print(gs.best_params_)\n",
    "print(gs.best_score_)\n",
    "ridge = gs.best_estimator_"
   ]
  },
  {
   "cell_type": "code",
   "execution_count": 91,
   "id": "401b51c2",
   "metadata": {},
   "outputs": [
    {
     "data": {
      "text/plain": [
       "0.7270374842363514"
      ]
     },
     "execution_count": 91,
     "metadata": {},
     "output_type": "execute_result"
    }
   ],
   "source": [
    "ridge.score(X_test,Y_test)"
   ]
  },
  {
   "cell_type": "code",
   "execution_count": 92,
   "id": "0226fef5",
   "metadata": {},
   "outputs": [
    {
     "data": {
      "image/png": "[encoded data removed]",
      "text/plain": [
       "<Figure size 432x288 with 1 Axes>"
      ]
     },
     "metadata": {
      "needs_background": "light"
     },
     "output_type": "display_data"
    }
   ],
   "source": [
    "plot_learning_curves(ridge)"
   ]
  },
  {
   "cell_type": "markdown",
   "id": "85c10e45",
   "metadata": {},
   "source": [
    "# Conclusion:\n",
    "As the number of training data may grow, the model will perform good. From our number of training records, we can still appreciate the models performance of having R2 score of 72%.\n",
    "Predicting laptop price based on the computers features is still challenging because there are many other parameters that may affect the price such as geographical locations, taxes and their price is going through the years."
   ]
  },
  {
   "cell_type": "markdown",
   "id": "49ff9411",
   "metadata": {},
   "source": [
    "## Saving the model"
   ]
  },
  {
   "cell_type": "code",
   "execution_count": 77,
   "id": "1686b4a5",
   "metadata": {},
   "outputs": [
    {
     "data": {
      "text/plain": [
       "['ridge.p']"
      ]
     },
     "execution_count": 77,
     "metadata": {},
     "output_type": "execute_result"
    }
   ],
   "source": [
    "import joblib\n",
    "joblib.dump(value=ridge,filename='ridge.p')"
   ]
  },
  {
   "cell_type": "code",
   "execution_count": 94,
   "id": "55242fdc",
   "metadata": {},
   "outputs": [
    {
     "data": {
      "text/plain": [
       "Index(['brand', 'processor_gnrtn', 'ram_gb', 'ram_type', 'ssd', 'hdd', 'os',\n",
       "       'os_bit', 'graphic_card_gb', 'weight', 'warranty', 'Touchscreen',\n",
       "       'msoffice', 'rating', 'Number of Ratings', 'Number of Reviews',\n",
       "       'proc_corei'],\n",
       "      dtype='object')"
      ]
     },
     "execution_count": 94,
     "metadata": {},
     "output_type": "execute_result"
    }
   ],
   "source": [
    "X_train.columns"
   ]
  },
  {
   "cell_type": "code",
   "execution_count": 95,
   "id": "4bcd5778",
   "metadata": {},
   "outputs": [
    {
     "ename": "AttributeError",
     "evalue": "'Series' object has no attribute 'uniques'",
     "output_type": "error",
     "traceback": [
      "\u001b[0;31m---------------------------------------------------------------------------\u001b[0m",
      "\u001b[0;31mAttributeError\u001b[0m                            Traceback (most recent call last)",
      "\u001b[0;32m/tmp/ipykernel_9569/3717942641.py\u001b[0m in \u001b[0;36m<module>\u001b[0;34m\u001b[0m\n\u001b[0;32m----> 1\u001b[0;31m \u001b[0mX_train\u001b[0m\u001b[0;34m.\u001b[0m\u001b[0mbrand\u001b[0m\u001b[0;34m.\u001b[0m\u001b[0muniques\u001b[0m\u001b[0;34m(\u001b[0m\u001b[0;34m)\u001b[0m\u001b[0;34m\u001b[0m\u001b[0;34m\u001b[0m\u001b[0m\n\u001b[0m",
      "\u001b[0;32m~/anaconda3/lib/python3.9/site-packages/pandas/core/generic.py\u001b[0m in \u001b[0;36m__getattr__\u001b[0;34m(self, name)\u001b[0m\n\u001b[1;32m   5485\u001b[0m         ):\n\u001b[1;32m   5486\u001b[0m             \u001b[0;32mreturn\u001b[0m \u001b[0mself\u001b[0m\u001b[0;34m[\u001b[0m\u001b[0mname\u001b[0m\u001b[0;34m]\u001b[0m\u001b[0;34m\u001b[0m\u001b[0;34m\u001b[0m\u001b[0m\n\u001b[0;32m-> 5487\u001b[0;31m         \u001b[0;32mreturn\u001b[0m \u001b[0mobject\u001b[0m\u001b[0;34m.\u001b[0m\u001b[0m__getattribute__\u001b[0m\u001b[0;34m(\u001b[0m\u001b[0mself\u001b[0m\u001b[0;34m,\u001b[0m \u001b[0mname\u001b[0m\u001b[0;34m)\u001b[0m\u001b[0;34m\u001b[0m\u001b[0;34m\u001b[0m\u001b[0m\n\u001b[0m\u001b[1;32m   5488\u001b[0m \u001b[0;34m\u001b[0m\u001b[0m\n\u001b[1;32m   5489\u001b[0m     \u001b[0;32mdef\u001b[0m \u001b[0m__setattr__\u001b[0m\u001b[0;34m(\u001b[0m\u001b[0mself\u001b[0m\u001b[0;34m,\u001b[0m \u001b[0mname\u001b[0m\u001b[0;34m:\u001b[0m \u001b[0mstr\u001b[0m\u001b[0;34m,\u001b[0m \u001b[0mvalue\u001b[0m\u001b[0;34m)\u001b[0m \u001b[0;34m->\u001b[0m \u001b[0;32mNone\u001b[0m\u001b[0;34m:\u001b[0m\u001b[0;34m\u001b[0m\u001b[0;34m\u001b[0m\u001b[0m\n",
      "\u001b[0;31mAttributeError\u001b[0m: 'Series' object has no attribute 'uniques'"
     ]
    }
   ],
   "source": []
  },
  {
   "cell_type": "code",
   "execution_count": null,
   "id": "3f97e2a5",
   "metadata": {},
   "outputs": [],
   "source": []
  }
 ],
 "metadata": {
  "kernelspec": {
   "display_name": "Python 3 (ipykernel)",
   "language": "python",
   "name": "python3"
  },
  "language_info": {
   "codemirror_mode": {
    "name": "ipython",
    "version": 3
   },
   "file_extension": ".py",
   "mimetype": "text/x-python",
   "name": "python",
   "nbconvert_exporter": "python",
   "pygments_lexer": "ipython3",
   "version": "3.9.7"
  }
 },
 "nbformat": 4,
 "nbformat_minor": 5
}
